{
 "cells": [
  {
   "cell_type": "markdown",
   "metadata": {},
   "source": [
    "### Aim: Use an RNN-based classifier to predict the sentiment of an IMDB movie reviews \n",
    "\n",
    "### Followed tutorial from:   https://www.kaggle.com/code/rafaeltiedra/step-by-step-imdb-sentiment-analysis\n"
   ]
  },
  {
   "cell_type": "code",
   "execution_count": 43,
   "metadata": {},
   "outputs": [],
   "source": [
    "## import libraries\n",
    "import pandas as pd\n",
    "import livelossplot\n",
    "import keras\n",
    "from keras import Sequential, datasets\n",
    "import matplotlib.pyplot as plt\n",
    "\n",
    "import re\n",
    "import nltk\n",
    "import random\n",
    "import numpy as np\n",
    "import pandas as pd\n",
    "import seaborn as sns\n",
    "from scipy import stats\n",
    "import matplotlib.pyplot as plt\n",
    "\n",
    "from sklearn.model_selection import train_test_split\n",
    "from keras.preprocessing.sequence import pad_sequences\n",
    "\n",
    "from keras.models import Sequential\n",
    "from keras.layers import Embedding, LSTM, Dropout, Dense"
   ]
  },
  {
   "cell_type": "code",
   "execution_count": 4,
   "metadata": {},
   "outputs": [
    {
     "data": {
      "text/html": [
       "<div>\n",
       "<style scoped>\n",
       "    .dataframe tbody tr th:only-of-type {\n",
       "        vertical-align: middle;\n",
       "    }\n",
       "\n",
       "    .dataframe tbody tr th {\n",
       "        vertical-align: top;\n",
       "    }\n",
       "\n",
       "    .dataframe thead th {\n",
       "        text-align: right;\n",
       "    }\n",
       "</style>\n",
       "<table border=\"1\" class=\"dataframe\">\n",
       "  <thead>\n",
       "    <tr style=\"text-align: right;\">\n",
       "      <th></th>\n",
       "      <th>review</th>\n",
       "      <th>sentiment</th>\n",
       "    </tr>\n",
       "  </thead>\n",
       "  <tbody>\n",
       "    <tr>\n",
       "      <th>0</th>\n",
       "      <td>One of the other reviewers has mentioned that ...</td>\n",
       "      <td>positive</td>\n",
       "    </tr>\n",
       "    <tr>\n",
       "      <th>1</th>\n",
       "      <td>A wonderful little production. &lt;br /&gt;&lt;br /&gt;The...</td>\n",
       "      <td>positive</td>\n",
       "    </tr>\n",
       "    <tr>\n",
       "      <th>2</th>\n",
       "      <td>I thought this was a wonderful way to spend ti...</td>\n",
       "      <td>positive</td>\n",
       "    </tr>\n",
       "    <tr>\n",
       "      <th>3</th>\n",
       "      <td>Basically there's a family where a little boy ...</td>\n",
       "      <td>negative</td>\n",
       "    </tr>\n",
       "    <tr>\n",
       "      <th>4</th>\n",
       "      <td>Petter Mattei's \"Love in the Time of Money\" is...</td>\n",
       "      <td>positive</td>\n",
       "    </tr>\n",
       "    <tr>\n",
       "      <th>...</th>\n",
       "      <td>...</td>\n",
       "      <td>...</td>\n",
       "    </tr>\n",
       "    <tr>\n",
       "      <th>49995</th>\n",
       "      <td>I thought this movie did a down right good job...</td>\n",
       "      <td>positive</td>\n",
       "    </tr>\n",
       "    <tr>\n",
       "      <th>49996</th>\n",
       "      <td>Bad plot, bad dialogue, bad acting, idiotic di...</td>\n",
       "      <td>negative</td>\n",
       "    </tr>\n",
       "    <tr>\n",
       "      <th>49997</th>\n",
       "      <td>I am a Catholic taught in parochial elementary...</td>\n",
       "      <td>negative</td>\n",
       "    </tr>\n",
       "    <tr>\n",
       "      <th>49998</th>\n",
       "      <td>I'm going to have to disagree with the previou...</td>\n",
       "      <td>negative</td>\n",
       "    </tr>\n",
       "    <tr>\n",
       "      <th>49999</th>\n",
       "      <td>No one expects the Star Trek movies to be high...</td>\n",
       "      <td>negative</td>\n",
       "    </tr>\n",
       "  </tbody>\n",
       "</table>\n",
       "<p>50000 rows × 2 columns</p>\n",
       "</div>"
      ],
      "text/plain": [
       "                                                  review sentiment\n",
       "0      One of the other reviewers has mentioned that ...  positive\n",
       "1      A wonderful little production. <br /><br />The...  positive\n",
       "2      I thought this was a wonderful way to spend ti...  positive\n",
       "3      Basically there's a family where a little boy ...  negative\n",
       "4      Petter Mattei's \"Love in the Time of Money\" is...  positive\n",
       "...                                                  ...       ...\n",
       "49995  I thought this movie did a down right good job...  positive\n",
       "49996  Bad plot, bad dialogue, bad acting, idiotic di...  negative\n",
       "49997  I am a Catholic taught in parochial elementary...  negative\n",
       "49998  I'm going to have to disagree with the previou...  negative\n",
       "49999  No one expects the Star Trek movies to be high...  negative\n",
       "\n",
       "[50000 rows x 2 columns]"
      ]
     },
     "execution_count": 4,
     "metadata": {},
     "output_type": "execute_result"
    }
   ],
   "source": [
    "## read data\n",
    "imdb = pd.read_csv(\"IMDB Dataset.csv\")\n",
    "imdb"
   ]
  },
  {
   "cell_type": "code",
   "execution_count": 11,
   "metadata": {},
   "outputs": [
    {
     "name": "stdout",
     "output_type": "stream",
     "text": [
      "                                                   review sentiment\n",
      "count                                               50000     50000\n",
      "unique                                              49582         2\n",
      "top     Loved today's show!!! It was a variety and not...  positive\n",
      "freq                                                    5     25000\n",
      "\n",
      "\n",
      " Sentiment count: \n",
      " positive    25000\n",
      "negative    25000\n",
      "Name: sentiment, dtype: int64\n"
     ]
    }
   ],
   "source": [
    "# Exploratory data analysis\n",
    "print(imdb.describe())\n",
    "\n",
    "# Sentiment count\n",
    "print(\"\\n\\n Sentiment count: \\n\", imdb['sentiment'].value_counts())\n"
   ]
  },
  {
   "cell_type": "code",
   "execution_count": 27,
   "metadata": {},
   "outputs": [
    {
     "data": {
      "text/plain": [
       "'deaf secretary carla emmanuelle devos is bullied by her mean spirited male colleagues when they suggest she needs an assistant it seems like the final insult but when the first applicant is ex con paul vincent cassel she seizes the chance to change her life carla covers his mistakes and he anxious to go straight reluctantly helps her to take revenge on her colleagues when paul asks carla to return the favor she finds herself drawn into the criminal underworld ruled by ruthless lone shark marchand olivier gourmet recognizing her ability to lip read as a weapon no one will have bargained for the two set out to see justice done french filmmaker jacques audiard s third feature read my lips is a genre defying piece switching from dark social comedy to visceral full throttle thriller'"
      ]
     },
     "execution_count": 27,
     "metadata": {},
     "output_type": "execute_result"
    }
   ],
   "source": [
    "## data preprocessing\n",
    "# transformations: remove punctuation marks,  HTML tags, URLs,  characters which are not letters or digits\n",
    "# remove successive whitespaces, convert the text to lower case, strip whitespaces from the beginning and the end of the reviews\n",
    "df = imdb\n",
    "idx = random.randint(0, len(df)-1)\n",
    "before_process = df.iloc[idx][0]\n",
    "\n",
    "def process(x):\n",
    "    x = re.sub('[,\\.!?:()\"]', '', x)\n",
    "    x = re.sub('<.*?>', ' ', x)\n",
    "    x = re.sub('http\\S+', ' ', x)\n",
    "    x = re.sub('[^a-zA-Z0-9]', ' ', x)\n",
    "    x = re.sub('\\s+', ' ', x)\n",
    "    return x.lower().strip()\n",
    "\n",
    "df['review'] = df['review'].apply(lambda x: process(x))\n",
    "after_process = df.iloc[idx][0]\n",
    "after_process"
   ]
  },
  {
   "cell_type": "code",
   "execution_count": 30,
   "metadata": {},
   "outputs": [
    {
     "name": "stdout",
     "output_type": "stream",
     "text": [
      "[nltk_data] Downloading package stopwords to\n",
      "[nltk_data]     /Users/kirannarta/nltk_data...\n",
      "[nltk_data]   Package stopwords is already up-to-date!\n",
      "[nltk_data] Downloading package punkt to\n",
      "[nltk_data]     /Users/kirannarta/nltk_data...\n",
      "[nltk_data]   Unzipping tokenizers/punkt.zip.\n"
     ]
    },
    {
     "data": {
      "text/plain": [
       "'deaf secretary carla emmanuelle devos bullied mean spirited male colleagues suggest needs assistant seems like final insult first applicant ex con paul vincent cassel seizes chance change life carla covers mistakes anxious go straight reluctantly helps take revenge colleagues paul asks carla return favor finds drawn criminal underworld ruled ruthless lone shark marchand olivier gourmet recognizing ability lip read weapon one bargained two set see justice done french filmmaker jacques audiard third feature read lips genre defying piece switching dark social comedy visceral full throttle thriller'"
      ]
     },
     "execution_count": 30,
     "metadata": {},
     "output_type": "execute_result"
    }
   ],
   "source": [
    "# remove stopwords from the reviews\n",
    "\n",
    "nltk.download('stopwords')\n",
    "nltk.download('punkt')\n",
    "sw_set = set(nltk.corpus.stopwords.words('english'))\n",
    "\n",
    "def sw_remove(x):\n",
    "    words = nltk.tokenize.word_tokenize(x)\n",
    "    filtered_list = [word for word in words if word not in sw_set]\n",
    "    return ' '.join(filtered_list)\n",
    "\n",
    "df['review'] = df['review'].apply(lambda x: sw_remove(x))\n",
    "after_removal = sw_remove(after_process)\n",
    "after_removal\n"
   ]
  },
  {
   "cell_type": "code",
   "execution_count": 36,
   "metadata": {},
   "outputs": [
    {
     "name": "stdout",
     "output_type": "stream",
     "text": [
      "train_rev.shape: (45000,)\n",
      "test_rev.shape: (5000,)\n",
      "train_sent.shape: (45000,)\n",
      "test_sent.shape: (5000,)\n"
     ]
    }
   ],
   "source": [
    "### Data split\n",
    "train_rev, test_rev, train_sent, test_sent = train_test_split(df['review'], df['sentiment'], test_size=0.1, random_state=42)\n",
    "\n",
    "print('train_rev.shape:', train_rev.shape)\n",
    "print('test_rev.shape:', test_rev.shape)\n",
    "print('train_sent.shape:' , train_sent.shape)\n",
    "print('test_sent.shape:' , test_sent.shape)"
   ]
  },
  {
   "cell_type": "code",
   "execution_count": 37,
   "metadata": {},
   "outputs": [
    {
     "name": "stdout",
     "output_type": "stream",
     "text": [
      "\u001b[1mDictionary size:\u001b[0m 35000\n",
      "\u001b[1mLength of the tokenizer index:\u001b[0m 125791\n",
      "\u001b[1mNumber of documents the tokenizer was trained on:\u001b[0m 50000 \n",
      "\n",
      "\u001b[1mFirst 20 entries of the tokenizer index:\u001b[0m\n",
      "('movie', 1) ('film', 2) ('one', 3) ('like', 4) ('good', 5) ('time', 6) ('even', 7) ('would', 8) ('really', 9) ('story', 10) ('see', 11) ('well', 12) ('much', 13) ('get', 14) ('bad', 15) ('people', 16) ('great', 17) ('also', 18) ('first', 19) ('made', 20)\n"
     ]
    }
   ],
   "source": [
    "### Data splitting and tokenization\n",
    "# encode sentiment\n",
    "df.sentiment = [1 if s == 'positive' else 0 for s in df.sentiment]\n",
    "\n",
    "dict_size = 35000\n",
    "tokenizer = Tokenizer(num_words=dict_size)\n",
    "tokenizer.fit_on_texts(df['review'])\n",
    "\n",
    "print('\\033[1m' + 'Dictionary size:' + '\\033[0m', dict_size)\n",
    "print('\\033[1m' + 'Length of the tokenizer index:' + '\\033[0m', len(tokenizer.word_index))\n",
    "print('\\033[1m' + 'Number of documents the tokenizer was trained on:' + '\\033[0m', tokenizer.document_count, '\\n')\n",
    "print('\\033[1m' + 'First 20 entries of the tokenizer index:' + '\\033[0m')\n",
    "print(*list(tokenizer.word_index.items())[:20])\n"
   ]
  },
  {
   "cell_type": "code",
   "execution_count": 46,
   "metadata": {},
   "outputs": [
    {
     "data": {
      "text/plain": [
       "291"
      ]
     },
     "execution_count": 46,
     "metadata": {},
     "output_type": "execute_result"
    }
   ],
   "source": [
    "# use Tokenizer class to convert the training reviews and test reviews \n",
    "train_rev_tokens = tokenizer.texts_to_sequences(train_rev)\n",
    "test_rev_tokens = tokenizer.texts_to_sequences(test_rev)\n",
    "seq_lengths =  np.array([len(sequence) for sequence in train_rev_tokens])\n",
    "\n",
    "# Storing in \"upper_bound\" our chosen upper bound for the length of sequences\n",
    "# Computing the percentage of lengths smaller or equal than \"upper_bound\"\n",
    "\n",
    "upper_bound = int(np.mean(seq_lengths) + 2 * np.std(seq_lengths))\n",
    "percentage = stats.percentileofscore(seq_lengths, upper_bound)\n",
    "\n",
    "upper_bound"
   ]
  },
  {
   "cell_type": "code",
   "execution_count": 42,
   "metadata": {},
   "outputs": [
    {
     "name": "stdout",
     "output_type": "stream",
     "text": [
      "train_rev_pad.shape: (45000, 291)\n",
      "test_rev_pad.shape: (5000, 291) \n",
      "\n"
     ]
    },
    {
     "data": {
      "text/plain": [
       "12549"
      ]
     },
     "execution_count": 42,
     "metadata": {},
     "output_type": "execute_result"
    }
   ],
   "source": [
    "### Pad sequences\n",
    "train_rev_pad = pad_sequences(train_rev_tokens, maxlen=upper_bound)\n",
    "test_rev_pad = pad_sequences(test_rev_tokens, maxlen=upper_bound)\n",
    "\n",
    "print('train_rev_pad.shape:', train_rev_pad.shape)\n",
    "print('test_rev_pad.shape:', test_rev_pad.shape, '\\n')\n",
    "\n",
    "idx_pad = random.randint(0, len(train_rev_pad)-1)\n",
    "idx_pad"
   ]
  },
  {
   "cell_type": "code",
   "execution_count": 68,
   "metadata": {},
   "outputs": [
    {
     "name": "stdout",
     "output_type": "stream",
     "text": [
      "\u001b[1mReview #23694 after padding:\u001b[0m\n",
      " [    0     0     0     0     0     0     0     0     0     0     0     0\n",
      "     0     0     0     0     0     0     0     0     0     0     0     0\n",
      "     0     0     0     0     0     0     0     0     0     0     0     0\n",
      "     0     0     0     0     0     0     0     0     0     0     0     0\n",
      "     0     0     0     0     0     0     0     0     0     0     0     0\n",
      "     0     0     0     0     0     0     0     0     0     0     0     0\n",
      "     0     0     0     0     0     0     0     0     0     0     0     0\n",
      "     0     0     0     0     0     0     0     0     0     0     0     0\n",
      "     0     0     0     0     0     0     0     0     0     0     0     0\n",
      "     0     0     0     0     0     0     0     0     0     0     0     0\n",
      "     0     0     0     0     0     0   916  3484   881  2996  1286 11572\n",
      " 17774   162    36   691   658  1373   325   360    41  1681  1154 13317\n",
      "    97  1481  3038   343 25765  3402  4348 27271   655   377  2245   669\n",
      "     1  1630  2232  2499  2991 23777 19578  2045   287  2344  4113  2017\n",
      "     2   615    84 25199  2633   351  2665  3233  8909  5958    39   409\n",
      "   128   303  3061 19578 14890   204 26532  7720    86  6008 25259   482\n",
      "  1054    93    91    94  2525  1898 15514  5262    86   478 23196  7211\n",
      "  6207  4969  4144   292   945  6785  2517   277  6285 25832  5722  3049\n",
      " 10837  4097  4193  8579  4681  1138 16967 11569  7102   213     1 17595\n",
      "  2266 31487  4414  7349 34619   361    11 22532   681  4067  4356   478\n",
      "  4397  4505     4    41  1381  6239 10022 10170   896   478  2310  7710\n",
      " 18057   700   202   775 18475  6207   355  8586 16486    35  5958   403\n",
      "    13    61  6207   350  5831  1801  3484   488  3402   193  1283   403\n",
      "  3817  2290   351  6086    84     9  9680  2465   583   951     2   797\n",
      "    78  1450   466]\n"
     ]
    }
   ],
   "source": [
    "idx_pad = random.randint(0, len(train_rev_pad)-1)\n",
    "print('\\033[1m' + 'Review #%d after padding:' %idx_pad + '\\033[0m' + '\\n', train_rev_pad[idx_pad])"
   ]
  },
  {
   "cell_type": "code",
   "execution_count": 48,
   "metadata": {},
   "outputs": [
    {
     "name": "stdout",
     "output_type": "stream",
     "text": [
      "Model: \"sequential_3\"\n",
      "_________________________________________________________________\n",
      "Layer (type)                 Output Shape              Param #   \n",
      "=================================================================\n",
      "embedding_2 (Embedding)      (None, 291, 14)           490000    \n",
      "_________________________________________________________________\n",
      "lstm_2 (LSTM)                (None, 16)                1984      \n",
      "_________________________________________________________________\n",
      "dropout_2 (Dropout)          (None, 16)                0         \n",
      "_________________________________________________________________\n",
      "dense_2 (Dense)              (None, 1)                 17        \n",
      "=================================================================\n",
      "Total params: 492,001\n",
      "Trainable params: 492,001\n",
      "Non-trainable params: 0\n",
      "_________________________________________________________________\n"
     ]
    }
   ],
   "source": [
    "### Model \n",
    "\n",
    "model = Sequential()\n",
    "model.add(Embedding(input_dim=dict_size, output_dim=14, input_length=291))\n",
    "model.add(LSTM(16))\n",
    "model.add(Dropout(0.8))\n",
    "model.add(Dense(1, activation='sigmoid'))\n",
    "\n",
    "model.summary()"
   ]
  },
  {
   "cell_type": "code",
   "execution_count": 56,
   "metadata": {},
   "outputs": [
    {
     "data": {
      "image/png": "[encoded data removed]",
      "text/plain": [
       "<Figure size 864x576 with 2 Axes>"
      ]
     },
     "metadata": {
      "needs_background": "light"
     },
     "output_type": "display_data"
    },
    {
     "name": "stdout",
     "output_type": "stream",
     "text": [
      "accuracy\n",
      "\ttraining         \t (min:    1.000, max:    1.000, cur:    1.000)\n",
      "\tvalidation       \t (min:    1.000, max:    1.000, cur:    1.000)\n",
      "Loss\n",
      "\ttraining         \t (min:    0.000, max:    0.001, cur:    0.000)\n",
      "\tvalidation       \t (min:    0.000, max:    0.000, cur:    0.000)\n"
     ]
    },
    {
     "data": {
      "text/plain": [
       "<keras.callbacks.History at 0x7fa4126fd828>"
      ]
     },
     "execution_count": 56,
     "metadata": {},
     "output_type": "execute_result"
    }
   ],
   "source": [
    "model.compile(optimizer='adam', loss='bce', metrics='accuracy')\n",
    "\n",
    "from livelossplot import PlotLossesKeras\n",
    "\n",
    "model.fit(train_rev_pad, train_sent,\n",
    "          epochs=10, batch_size=32,\n",
    "          validation_data=(test_rev_pad, test_sent),\n",
    "          callbacks=[PlotLossesKeras()],\n",
    "          verbose=0)\n",
    "\n",
    "#model.fit(train_rev_pad, train_sent, validation_split=0.1,\n",
    "#           epochs=5, batch_size=32,\n",
    "#           validation_data=(test_rev_pad, test_sent),\n",
    "#           callbacks=[PlotLossesKeras()],\n",
    "#           verbose=0)"
   ]
  },
  {
   "cell_type": "code",
   "execution_count": 69,
   "metadata": {},
   "outputs": [
    {
     "name": "stdout",
     "output_type": "stream",
     "text": [
      "157/157 [==============================] - 2s 13ms/step - loss: 1.1047e-18 - accuracy: 1.0000\n",
      "[1.1046784081637952e-18, 1.0]\n",
      "[[5000]]\n"
     ]
    },
    {
     "data": {
      "image/png": "[encoded data removed]",
      "text/plain": [
       "<Figure size 432x288 with 2 Axes>"
      ]
     },
     "metadata": {
      "needs_background": "light"
     },
     "output_type": "display_data"
    }
   ],
   "source": [
    "result= model.evaluate(test_rev_pad, test_sent)\n",
    "print(result)\n",
    "from sklearn.metrics import confusion_matrix, accuracy_score, precision_score, recall_score, ConfusionMatrixDisplay, f1_score\n",
    "\n",
    "predictions = np.round(model.predict(test_rev_pad))\n",
    "cf_matrix = confusion_matrix(test_sent, predictions)\n",
    "print(cf_matrix)\n",
    "cm=confusion_matrix(test_sent, predictions)\n",
    "disp = ConfusionMatrixDisplay(confusion_matrix=cm)\n",
    "disp.plot()\n",
    "plt.show()\n"
   ]
  },
  {
   "cell_type": "markdown",
   "metadata": {},
   "source": [
    "Conclusion: \n",
    "\n",
    "In this model I am getting an accuracy of 1. [I think there is an error would be getting back to this]"
   ]
  }
 ],
 "metadata": {
  "kernelspec": {
   "display_name": "Python 3",
   "language": "python",
   "name": "python3"
  },
  "language_info": {
   "codemirror_mode": {
    "name": "ipython",
    "version": 3
   },
   "file_extension": ".py",
   "mimetype": "text/x-python",
   "name": "python",
   "nbconvert_exporter": "python",
   "pygments_lexer": "ipython3",
   "version": "3.6.7"
  }
 },
 "nbformat": 4,
 "nbformat_minor": 2
}
